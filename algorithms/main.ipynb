{
 "cells": [
  {
   "cell_type": "markdown",
   "metadata": {},
   "source": [
    "THIS NOTEBOOK IS AN INTRODUCTION TO ALGORITHMS"
   ]
  },
  {
   "cell_type": "markdown",
   "metadata": {},
   "source": [
    "1. find the greatest common denominator using Euclid's algorithm"
   ]
  },
  {
   "cell_type": "code",
   "execution_count": 3,
   "metadata": {},
   "outputs": [],
   "source": [
    "# greatest common denominator: https://en.wikipedia.org/wiki/Greatest_common_divisor\n",
    "def greates_common_denominator(x, y):\n",
    "    while (y != 0):\n",
    "        t = x\n",
    "        x = y\n",
    "        y = t % y\n",
    "    return x"
   ]
  },
  {
   "cell_type": "code",
   "execution_count": 6,
   "metadata": {},
   "outputs": [
    {
     "name": "stdout",
     "output_type": "stream",
     "text": [
      "12\n",
      "5\n",
      "10\n"
     ]
    }
   ],
   "source": [
    "print(greates_common_denominator(60, 96))\n",
    "print(greates_common_denominator(30, 5))\n",
    "print(greates_common_denominator(100, 10))"
   ]
  },
  {
   "cell_type": "markdown",
   "metadata": {},
   "source": [
    "## introduction to data structures"
   ]
  },
  {
   "cell_type": "markdown",
   "metadata": {},
   "source": [
    "1. hash table: \\\n",
    "hash table is a data structure that stores key-value pairs"
   ]
  },
  {
   "cell_type": "code",
   "execution_count": 7,
   "metadata": {},
   "outputs": [
    {
     "name": "stdout",
     "output_type": "stream",
     "text": [
      "{'California': 'Sacramento', 'Oregon': 'Salem', 'Washington': 'Olympia'}\n"
     ]
    }
   ],
   "source": [
    "items = dict({'California': 'Sacramento', 'Oregon': 'Salem', 'Washington': 'Olympia'})\n",
    "print(items)"
   ]
  },
  {
   "cell_type": "code",
   "execution_count": 8,
   "metadata": {},
   "outputs": [
    {
     "name": "stdout",
     "output_type": "stream",
     "text": [
      "{'Texas': 'Austin', 'Utah': 'Salt Lake City', 'California': 'Sacramento'}\n"
     ]
    }
   ],
   "source": [
    "# creatting a hashtable progressively\n",
    "items = {}\n",
    "\n",
    "items['Texas'] = 'Austin'\n",
    "items['Utah'] = 'Salt Lake City'\n",
    "items['California'] = 'Sacramento'\n",
    "print(items)"
   ]
  },
  {
   "cell_type": "code",
   "execution_count": 9,
   "metadata": {},
   "outputs": [
    {
     "ename": "KeyError",
     "evalue": "'New York'",
     "output_type": "error",
     "traceback": [
      "\u001b[0;31m---------------------------------------------------------------------------\u001b[0m",
      "\u001b[0;31mKeyError\u001b[0m                                  Traceback (most recent call last)",
      "\u001b[1;32m/Users/rob_the_programmer/Documents/programming/2022/datastruc_algorithms/algorithms/main.ipynb Cell 9'\u001b[0m in \u001b[0;36m<module>\u001b[0;34m\u001b[0m\n\u001b[1;32m      <a href='vscode-notebook-cell:/Users/rob_the_programmer/Documents/programming/2022/datastruc_algorithms/algorithms/main.ipynb#ch0000008?line=0'>1</a>\u001b[0m \u001b[39m# accessing a nonexistent key\u001b[39;00m\n\u001b[0;32m----> <a href='vscode-notebook-cell:/Users/rob_the_programmer/Documents/programming/2022/datastruc_algorithms/algorithms/main.ipynb#ch0000008?line=1'>2</a>\u001b[0m \u001b[39mprint\u001b[39m(items[\u001b[39m'\u001b[39;49m\u001b[39mNew York\u001b[39;49m\u001b[39m'\u001b[39;49m])\n",
      "\u001b[0;31mKeyError\u001b[0m: 'New York'"
     ]
    }
   ],
   "source": [
    "# accessing a nonexistent key\n",
    "print(items['New York'])"
   ]
  },
  {
   "cell_type": "code",
   "execution_count": 10,
   "metadata": {},
   "outputs": [
    {
     "name": "stdout",
     "output_type": "stream",
     "text": [
      "Austin\n"
     ]
    }
   ],
   "source": [
    "print(items['Texas'])"
   ]
  },
  {
   "cell_type": "code",
   "execution_count": 11,
   "metadata": {},
   "outputs": [],
   "source": [
    "# replace an item in a dictionary\n",
    "items['Texas'] = 'Houston'"
   ]
  },
  {
   "cell_type": "code",
   "execution_count": 12,
   "metadata": {},
   "outputs": [
    {
     "name": "stdout",
     "output_type": "stream",
     "text": [
      "{'Texas': 'Houston', 'Utah': 'Salt Lake City', 'California': 'Sacramento'}\n"
     ]
    }
   ],
   "source": [
    "print(items)"
   ]
  },
  {
   "cell_type": "code",
   "execution_count": 13,
   "metadata": {},
   "outputs": [
    {
     "data": {
      "text/plain": [
       "['key: Texas, value: Houston',\n",
       " 'key: Utah, value: Salt Lake City',\n",
       " 'key: California, value: Sacramento']"
      ]
     },
     "execution_count": 13,
     "metadata": {},
     "output_type": "execute_result"
    }
   ],
   "source": [
    "# iterate the keys and values in the dictionary\n",
    "[f\"key: {key}, value: {value}\" for key, value in items.items()]"
   ]
  },
  {
   "cell_type": "markdown",
   "metadata": {},
   "source": [
    "2. Linked Lists: \\\n",
    "linked lists are a data structure that consists of a group of nodes that are linked together.\n"
   ]
  },
  {
   "cell_type": "code",
   "execution_count": 15,
   "metadata": {},
   "outputs": [],
   "source": [
    "# two classes will be created: Node and LinkedList"
   ]
  },
  {
   "cell_type": "code",
   "execution_count": 16,
   "metadata": {},
   "outputs": [],
   "source": [
    "class Node(object):\n",
    "    def __init__(self, data):\n",
    "        self.data = data\n",
    "        self.next = None\n",
    "\n",
    "    def get_data(self):\n",
    "        return self.data\n",
    "\n",
    "    def set_data(self, data):\n",
    "        self.data = data\n",
    "\n",
    "    def get_next(self):\n",
    "        return self.next\n",
    "\n",
    "    def set_next(self, next):\n",
    "        self.next = next"
   ]
  },
  {
   "cell_type": "code",
   "execution_count": null,
   "metadata": {},
   "outputs": [],
   "source": [
    "class LinkedList(object):\n",
    "    pass"
   ]
  }
 ],
 "metadata": {
  "interpreter": {
   "hash": "aee8b7b246df8f9039afb4144a1f6fd8d2ca17a180786b69acc140d282b71a49"
  },
  "kernelspec": {
   "display_name": "Python 3.10.2 64-bit",
   "language": "python",
   "name": "python3"
  },
  "language_info": {
   "codemirror_mode": {
    "name": "ipython",
    "version": 3
   },
   "file_extension": ".py",
   "mimetype": "text/x-python",
   "name": "python",
   "nbconvert_exporter": "python",
   "pygments_lexer": "ipython3",
   "version": "3.10.2"
  },
  "orig_nbformat": 4
 },
 "nbformat": 4,
 "nbformat_minor": 2
}
